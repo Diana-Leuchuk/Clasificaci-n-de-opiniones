{
  "nbformat": 4,
  "nbformat_minor": 0,
  "metadata": {
    "colab": {
      "provenance": []
    },
    "kernelspec": {
      "name": "python3",
      "display_name": "Python 3"
    },
    "language_info": {
      "name": "python"
    }
  },
  "cells": [
    {
      "cell_type": "code",
      "execution_count": null,
      "metadata": {
        "colab": {
          "base_uri": "https://localhost:8080/"
        },
        "id": "LVrCwI4v3JtU",
        "outputId": "54198e1e-6c72-4e31-f49a-21f898103c3b"
      },
      "outputs": [
        {
          "output_type": "stream",
          "name": "stdout",
          "text": [
            "Precisión en el conjunto de validación: 1.00\n",
            "Archivo dataset_test.csv generado con la columna 'etiqueta'.\n"
          ]
        }
      ],
      "source": [
        "\n",
        "import pandas as pd\n",
        "from sklearn.model_selection import train_test_split\n",
        "from sklearn.feature_extraction.text import CountVectorizer\n",
        "from sklearn.linear_model import LogisticRegression\n",
        "\n",
        "# Cargar datasets\n",
        "\n",
        "train = pd.read_csv(\"dataset_train_95.csv\")\n",
        "test = pd.read_csv(\"dataset_test_5_sin_etiqueta.csv\")\n",
        "\n",
        "\n",
        "# Separar características y etiquetas\n",
        "\n",
        "X = train['declaracion']\n",
        "y = train['etiqueta']  # 1 = positiva, 0 = negativa\n",
        "\n",
        "\n",
        "# Dividir en entrenamiento y prueba (opcional, para evaluar)\n",
        "\n",
        "X_train, X_val, y_train, y_val = train_test_split(X, y, test_size=0.25, random_state=42)\n",
        "\n",
        "\n",
        "# Vectorizar el texto\n",
        "\n",
        "vectorizador = CountVectorizer()\n",
        "X_train_vec = vectorizador.fit_transform(X_train)\n",
        "X_val_vec = vectorizador.transform(X_val)\n",
        "X_test_vec = vectorizador.transform(test['declaracion'])\n",
        "\n",
        "\n",
        "# Entrenar el modelo\n",
        "\n",
        "modelo = LogisticRegression(max_iter=1000)\n",
        "modelo.fit(X_train_vec, y_train)\n",
        "\n",
        "\n",
        "accuracy = modelo.score(X_val_vec, y_val)\n",
        "print(f\"Precisión en el conjunto de validación: {accuracy:.2f}\")\n",
        "\n",
        "predicciones = modelo.predict(X_test_vec)\n",
        "\n",
        "\n",
        "test['etiqueta'] = predicciones\n",
        "test.to_csv(\"dataset_test.csv\", index=False)\n",
        "print(\"Archivo dataset_test.csv generado con la columna 'etiqueta'.\")"
      ]
    }
  ]
}